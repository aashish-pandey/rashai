{
 "cells": [
  {
   "cell_type": "code",
   "execution_count": 34,
   "id": "97d7f589",
   "metadata": {},
   "outputs": [],
   "source": [
    "import swisseph as swe\n",
    "from datetime import datetime"
   ]
  },
  {
   "cell_type": "code",
   "execution_count": 35,
   "id": "94aabb29",
   "metadata": {},
   "outputs": [],
   "source": [
    "#set sidereal mode (Lahiri)\n",
    "swe.set_sid_mode(swe.SIDM_LAHIRI)\n"
   ]
  },
  {
   "cell_type": "code",
   "execution_count": 36,
   "id": "bfc6c03a",
   "metadata": {},
   "outputs": [],
   "source": [
    "#Birth data\n",
    "year, month, day = 1998, 7, 3\n",
    "hour = 5 + 30/60 # 5L30 AM\n",
    "lat, lon = 28.6139, 77.2090"
   ]
  },
  {
   "cell_type": "code",
   "execution_count": 37,
   "id": "5e2389f5",
   "metadata": {},
   "outputs": [],
   "source": [
    "#Convert to Julian Day\n",
    "jd = swe.julday(year, month, day, hour)"
   ]
  },
  {
   "cell_type": "code",
   "execution_count": 38,
   "id": "3b20c784",
   "metadata": {},
   "outputs": [],
   "source": [
    "#Get Ascendant and Houses\n",
    "cusps, ascmc = swe.houses(jd, lat, lon)\n"
   ]
  },
  {
   "cell_type": "code",
   "execution_count": 39,
   "id": "c42712c2",
   "metadata": {},
   "outputs": [
    {
     "name": "stdout",
     "output_type": "stream",
     "text": [
      "Ascendant degree:  171.852453392009\n",
      "House cusps:  (171.852453392009, 199.46160860447836, 229.85561976524593, 261.5030772026693, 293.05086908536384, 323.5125331322043, 351.852453392009, 19.46160860447833, 49.85561976524593, 81.50307720266932, 113.05086908536381, 143.51253313220428)\n"
     ]
    }
   ],
   "source": [
    "print(\"Ascendant degree: \", ascmc[0])\n",
    "print(\"House cusps: \", cusps)"
   ]
  },
  {
   "cell_type": "code",
   "execution_count": 40,
   "id": "9a25dbf8",
   "metadata": {},
   "outputs": [],
   "source": [
    "# Extracting the Ascendant (Lagna) sign\n",
    "asc_degree = ascmc[0]\n",
    "asc_sign = int(asc_degree // 30) + 1 #+1 to make 1 = Aries, 2 = Taurus, ..., 12 = Pisces"
   ]
  },
  {
   "cell_type": "code",
   "execution_count": 41,
   "id": "05d850de",
   "metadata": {},
   "outputs": [],
   "source": [
    "RASHIS = {\n",
    "    1: \"Aries\", 2: \"Taurus\", 3: \"Gemini\", 4: \"Cancer\", \n",
    "    5: \"Leo\", 6: \"Virgo\", 7: \"Libra\", 8: \"Scorpio\",\n",
    "    9: \"Sagittarius\", 10: \"Capricorn\", 11: \"Aquarius\", \n",
    "    12: \"Pisces\"\n",
    "}"
   ]
  },
  {
   "cell_type": "code",
   "execution_count": 42,
   "id": "8a43d53f",
   "metadata": {},
   "outputs": [],
   "source": [
    "#derivind sign of each house\n",
    "house_signs = {}\n",
    "for i in range(0, 12):\n",
    "    degree  = cusps[i]\n",
    "    rashi = int(degree // 30 ) + 1\n",
    "    house_signs[i+1] = rashi\n"
   ]
  },
  {
   "cell_type": "code",
   "execution_count": 43,
   "id": "a0550a86",
   "metadata": {},
   "outputs": [
    {
     "name": "stdout",
     "output_type": "stream",
     "text": [
      "{1: 6, 2: 7, 3: 8, 4: 9, 5: 10, 6: 11, 7: 12, 8: 1, 9: 2, 10: 3, 11: 4, 12: 5}\n"
     ]
    }
   ],
   "source": [
    "print(house_signs)"
   ]
  },
  {
   "cell_type": "code",
   "execution_count": 44,
   "id": "f0b17dc5",
   "metadata": {},
   "outputs": [],
   "source": [
    "PLANETS = {\n",
    "    0: \"Sun\", 1: \"Moon\", 2: \"Mercury\", 3: \"Venus\", 4: \"Mars\",\n",
    "    5: \"Jupiter\", 6: \"Saturn\", 10: \"Rahu\", 11: \"Ketu\"\n",
    "}"
   ]
  },
  {
   "cell_type": "code",
   "execution_count": 45,
   "id": "72aed000",
   "metadata": {},
   "outputs": [],
   "source": [
    "planet_positions = {}"
   ]
  },
  {
   "cell_type": "code",
   "execution_count": 46,
   "id": "f3d2f9a4",
   "metadata": {},
   "outputs": [
    {
     "data": {
      "text/plain": [
       "{'Sun': {'longitude': 101.10766300659522, 'rashi': 4},\n",
       " 'Moon': {'longitude': 206.9037496571462, 'rashi': 7},\n",
       " 'Mercury': {'longitude': 123.5331725543876, 'rashi': 5},\n",
       " 'Venus': {'longitude': 70.35215826805117, 'rashi': 3},\n",
       " 'Mars': {'longitude': 87.86739275453522, 'rashi': 3},\n",
       " 'Jupiter': {'longitude': 357.70399479541413, 'rashi': 12},\n",
       " 'Saturn': {'longitude': 32.03831549329988, 'rashi': 2},\n",
       " 'Rahu': {'longitude': 154.02252959476456, 'rashi': 6},\n",
       " 'Ketu': {'longitude': 334.0225295947646, 'rashi': 12}}"
      ]
     },
     "execution_count": 46,
     "metadata": {},
     "output_type": "execute_result"
    }
   ],
   "source": [
    "for pid in PLANETS:\n",
    "    if pid == 11: #ketu = 180 degree from Rahu\n",
    "        rahu_data = swe.calc_ut(jd, 10)[0]\n",
    "        rahu_lon = rahu_data[0]\n",
    "        lon = (rahu_lon + 180) % 360\n",
    "    else:\n",
    "        data = swe.calc_ut(jd, pid)[0]\n",
    "        lon = data[0]\n",
    "    \n",
    "    rashi = int(lon // 30) + 1\n",
    "    planet_positions[PLANETS[pid]] = {\n",
    "        'longitude': lon,\n",
    "        'rashi': rashi\n",
    "    }\n",
    "\n",
    "planet_positions"
   ]
  },
  {
   "cell_type": "markdown",
   "id": "23dea7f0",
   "metadata": {},
   "source": [
    "# Map Planets to their houses"
   ]
  },
  {
   "cell_type": "code",
   "execution_count": 47,
   "id": "a3ac2411",
   "metadata": {},
   "outputs": [],
   "source": [
    "def get_house_for_planet(degree, cusps):\n",
    "    for i in range(12):\n",
    "        start = cusps[i]\n",
    "        end = cusps[(i+1)%12]\n",
    "\n",
    "        if start < end:\n",
    "            if start <= degree < end:\n",
    "                return i + 1\n",
    "        else:\n",
    "            if degree >= start or degree < end:\n",
    "                return i + 1\n",
    "    return None"
   ]
  },
  {
   "cell_type": "code",
   "execution_count": 48,
   "id": "d4831708",
   "metadata": {},
   "outputs": [],
   "source": [
    "# Adding house numer\n",
    "for pname in planet_positions:\n",
    "    degree = planet_positions[pname]['longitude']\n",
    "    house = get_house_for_planet(degree, cusps)\n",
    "    planet_positions[pname]['house'] = house\n"
   ]
  },
  {
   "cell_type": "code",
   "execution_count": 49,
   "id": "11ec59bd",
   "metadata": {},
   "outputs": [],
   "source": [
    "#adding house sign\n",
    "\n",
    "for pname in planet_positions:\n",
    "    hnum = planet_positions[pname]['house']\n",
    "    planet_positions[pname]['house_rashi'] = house_signs[hnum]"
   ]
  },
  {
   "cell_type": "code",
   "execution_count": 50,
   "id": "6544807b",
   "metadata": {},
   "outputs": [
    {
     "data": {
      "text/plain": [
       "{'Sun': {'longitude': 101.10766300659522,\n",
       "  'rashi': 4,\n",
       "  'house': 10,\n",
       "  'house_rashi': 3},\n",
       " 'Moon': {'longitude': 206.9037496571462,\n",
       "  'rashi': 7,\n",
       "  'house': 2,\n",
       "  'house_rashi': 7},\n",
       " 'Mercury': {'longitude': 123.5331725543876,\n",
       "  'rashi': 5,\n",
       "  'house': 11,\n",
       "  'house_rashi': 4},\n",
       " 'Venus': {'longitude': 70.35215826805117,\n",
       "  'rashi': 3,\n",
       "  'house': 9,\n",
       "  'house_rashi': 2},\n",
       " 'Mars': {'longitude': 87.86739275453522,\n",
       "  'rashi': 3,\n",
       "  'house': 10,\n",
       "  'house_rashi': 3},\n",
       " 'Jupiter': {'longitude': 357.70399479541413,\n",
       "  'rashi': 12,\n",
       "  'house': 7,\n",
       "  'house_rashi': 12},\n",
       " 'Saturn': {'longitude': 32.03831549329988,\n",
       "  'rashi': 2,\n",
       "  'house': 8,\n",
       "  'house_rashi': 1},\n",
       " 'Rahu': {'longitude': 154.02252959476456,\n",
       "  'rashi': 6,\n",
       "  'house': 12,\n",
       "  'house_rashi': 5},\n",
       " 'Ketu': {'longitude': 334.0225295947646,\n",
       "  'rashi': 12,\n",
       "  'house': 6,\n",
       "  'house_rashi': 11}}"
      ]
     },
     "execution_count": 50,
     "metadata": {},
     "output_type": "execute_result"
    }
   ],
   "source": [
    "planet_positions"
   ]
  },
  {
   "cell_type": "code",
   "execution_count": null,
   "id": "638cf892",
   "metadata": {},
   "outputs": [],
   "source": []
  }
 ],
 "metadata": {
  "kernelspec": {
   "display_name": "venv",
   "language": "python",
   "name": "python3"
  },
  "language_info": {
   "codemirror_mode": {
    "name": "ipython",
    "version": 3
   },
   "file_extension": ".py",
   "mimetype": "text/x-python",
   "name": "python",
   "nbconvert_exporter": "python",
   "pygments_lexer": "ipython3",
   "version": "3.13.2"
  }
 },
 "nbformat": 4,
 "nbformat_minor": 5
}
